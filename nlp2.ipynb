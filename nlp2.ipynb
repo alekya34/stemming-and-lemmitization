{
  "nbformat": 4,
  "nbformat_minor": 0,
  "metadata": {
    "colab": {
      "provenance": [],
      "authorship_tag": "ABX9TyNQkVq68B1jUjbp9ZOmlxMi",
      "include_colab_link": true
    },
    "kernelspec": {
      "name": "python3",
      "display_name": "Python 3"
    },
    "language_info": {
      "name": "python"
    }
  },
  "cells": [
    {
      "cell_type": "markdown",
      "metadata": {
        "id": "view-in-github",
        "colab_type": "text"
      },
      "source": [
        "<a href=\"https://colab.research.google.com/github/alekya34/stemming-and-lemmitization/blob/main/nlp2.ipynb\" target=\"_parent\"><img src=\"https://colab.research.google.com/assets/colab-badge.svg\" alt=\"Open In Colab\"/></a>"
      ]
    },
    {
      "cell_type": "code",
      "execution_count": null,
      "metadata": {
        "colab": {
          "base_uri": "https://localhost:8080/"
        },
        "id": "4K88yQzSx_6U",
        "outputId": "b1edce3e-2cc8-4c63-dc61-f2d743a3b83b"
      },
      "outputs": [
        {
          "output_type": "stream",
          "name": "stderr",
          "text": [
            "[nltk_data] Downloading package wordnet to /root/nltk_data...\n",
            "[nltk_data]   Package wordnet is already up-to-date!\n"
          ]
        },
        {
          "output_type": "stream",
          "name": "stdout",
          "text": [
            "['Hey', '@Yankees', '@YankeesPR', 'and', '@MLB', '-', \"wouldn't\", 'it', 'have', 'made', 'more', 'sense', 'to', 'have', 'the', 'players', 'pay', 'their', 'respects', 'to', 'the', 'A…', 'https://t.co/1QvW0zgyPu']\n",
            "Hey @Yankees @YankeesPR and @MLB - wouldn't it have made more sense to have the player pay their respect to the A… https://t.co/1QvW0zgyPu\n"
          ]
        }
      ],
      "source": [
        "\n",
        "import nltk\n",
        "from nltk.stem import PorterStemmer, WordNetLemmatizer\n",
        "#from nltk.tokenize import word_tokenize\n",
        "import pandas as pd\n",
        "\n",
        "\n",
        "#nltk.download('punkt')\n",
        "nltk.download('wordnet')\n",
        "data=pd.read_csv('/content/covid19_tweets.csv')\n",
        "col=data['text']\n",
        "words=col[1].split()\n",
        "print(words)\n",
        "lemmatizer=WordNetLemmatizer()\n",
        "ls=' '.join([lemmatizer.lemmatize(w) for w in words])\n",
        "print(ls)\n",
        "\n"
      ]
    },
    {
      "cell_type": "code",
      "source": [
        "lemmatizer=WordNetLemmatizer()\n",
        "ls=' '.join([lemmatizer.lemmatize(w) for w in words])\n",
        "print(ls)"
      ],
      "metadata": {
        "colab": {
          "base_uri": "https://localhost:8080/"
        },
        "id": "tTbg2wH_5Bi8",
        "outputId": "9836e079-ff63-4aba-955f-4dbba8a5b33f"
      },
      "execution_count": null,
      "outputs": [
        {
          "output_type": "stream",
          "name": "stdout",
          "text": [
            "Hey @Yankees @YankeesPR and @MLB - wouldn't it have made more sense to have the player pay their respect to the A… https://t.co/1QvW0zgyPu\n"
          ]
        }
      ]
    },
    {
      "cell_type": "code",
      "source": [
        "words=['dogs','feet','cats']\n",
        "for i in words:\n",
        "  print(f\"(i):{lemmatizer.lemmatize(i)}\")\n"
      ],
      "metadata": {
        "colab": {
          "base_uri": "https://localhost:8080/"
        },
        "id": "RRK0IBlb5qR3",
        "outputId": "0b6d9a4f-e327-48d7-da32-261cdad89097"
      },
      "execution_count": null,
      "outputs": [
        {
          "output_type": "stream",
          "name": "stdout",
          "text": [
            "(i):dog\n",
            "(i):foot\n",
            "(i):cat\n"
          ]
        }
      ]
    },
    {
      "cell_type": "code",
      "source": [
        "for i in words:\n",
        "  print(f\"(i):{stemmer.stem(i)}\")"
      ],
      "metadata": {
        "colab": {
          "base_uri": "https://localhost:8080/"
        },
        "id": "OXV-N6Aa6JVN",
        "outputId": "4528f41d-0c60-414b-9f9f-8c7978d3404b"
      },
      "execution_count": null,
      "outputs": [
        {
          "output_type": "stream",
          "name": "stdout",
          "text": [
            "(i):dog\n",
            "(i):feet\n",
            "(i):cat\n"
          ]
        }
      ]
    },
    {
      "cell_type": "code",
      "source": [
        "import nltk\n",
        "from nltk.stem import PorterStemmer, WordNetLemmatizer\n",
        "#from nltk.tokenize import word_tokenize\n",
        "import pandas as pd\n",
        "\n",
        "\n",
        "#nltk.download('punkt')\n",
        "nltk.download('wordnet')\n",
        "data=pd.read_csv('/content/vaccination_tweets.csv')\n",
        "col=data['text']\n",
        "words=col[1].split()\n",
        "print(words)\n",
        "lemmatizer=WordNetLemmatizer()\n",
        "ls=' '.join([lemmatizer.lemmatize(w) for w in words])\n",
        "print(ls)\n"
      ],
      "metadata": {
        "colab": {
          "base_uri": "https://localhost:8080/"
        },
        "id": "RTQ81oIGT1qq",
        "outputId": "044d33a9-bfd3-45c8-dac5-30df634a176f"
      },
      "execution_count": null,
      "outputs": [
        {
          "output_type": "stream",
          "name": "stderr",
          "text": [
            "[nltk_data] Downloading package wordnet to /root/nltk_data...\n"
          ]
        },
        {
          "output_type": "stream",
          "name": "stdout",
          "text": [
            "['While', 'the', 'world', 'has', 'been', 'on', 'the', 'wrong', 'side', 'of', 'history', 'this', 'year,', 'hopefully,', 'the', 'biggest', 'vaccination', 'effort', \"we've\", 'ev…', 'https://t.co/dlCHrZjkhm']\n",
            "While the world ha been on the wrong side of history this year, hopefully, the biggest vaccination effort we've ev… https://t.co/dlCHrZjkhm\n"
          ]
        }
      ]
    }
  ]
}